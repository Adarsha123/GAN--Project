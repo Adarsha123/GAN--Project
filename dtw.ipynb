{
 "cells": [
  {
   "cell_type": "code",
   "execution_count": 1,
   "id": "de7ae43e-fd34-4ead-bb4c-3793b825c70b",
   "metadata": {},
   "outputs": [],
   "source": [
    "import numpy as np\n",
    "import pandas as pd\n",
    "from matplotlib.patches import ConnectionPatch\n",
    "import scipy.spatial.distance as dist"
   ]
  },
  {
   "cell_type": "code",
   "execution_count": 2,
   "id": "bc34356f-8375-4bcb-8921-6050f89f941b",
   "metadata": {},
   "outputs": [],
   "source": [
    "\n",
    "#Implementation borrowed and modified from \"https://github.com/kamperh/lecture_dtw_notebook/blob/main/dtw.ipynb\"\n",
    "\n",
    "class Dtw:\n",
    "    def __init__(self,x=None,y=None):\n",
    "        if x is None or y is  None:\n",
    "            raise ValueError(\"You should enter proper value of x and y\")\n",
    "        else:\n",
    "            self.x=x\n",
    "            self.y=y\n",
    "            \n",
    "        self.alignment_cost= self.get_alignment_cost(self.x,self.y)\n",
    "\n",
    "    # Function 'dp' is \n",
    "    def dp(self,dist_mat):\n",
    "        N, M = dist_mat.shape\n",
    "        \n",
    "        cost_mat = np.zeros((N + 1, M + 1))\n",
    "        for i in range(1, N + 1):\n",
    "            cost_mat[i, 0] = np.inf\n",
    "        for i in range(1, M + 1):\n",
    "            cost_mat[0, i] = np.inf\n",
    "        traceback_mat = np.zeros((N, M))\n",
    "        for i in range(N):\n",
    "            for j in range(M):\n",
    "                penalty = [\n",
    "                    cost_mat[i, j],      # match (0)\n",
    "                    cost_mat[i, j + 1],  # insertion (1)\n",
    "                    cost_mat[i + 1, j]]  # deletion (2)\n",
    "                i_penalty = np.argmin(penalty)\n",
    "                cost_mat[i + 1, j + 1] = dist_mat[i, j] + penalty[i_penalty]\n",
    "                traceback_mat[i, j] = i_penalty\n",
    "    \n",
    "        i = N - 1\n",
    "        j = M - 1\n",
    "        path = [(i, j)]\n",
    "        while i > 0 or j > 0:\n",
    "            tb_type = traceback_mat[i, j]\n",
    "            if tb_type == 0:\n",
    "                i = i - 1\n",
    "                j = j - 1\n",
    "            elif tb_type == 1:\n",
    "                i = i - 1\n",
    "            elif tb_type == 2:\n",
    "                j = j - 1\n",
    "            path.append((i, j))\n",
    "        cost_mat = cost_mat[1:, 1:]\n",
    "        return (path[::-1], cost_mat)\n",
    "\n",
    "\n",
    "    def get_alignment_cost(self,x,y):\n",
    "        N = x.shape[0]\n",
    "        M = y.shape[0]\n",
    "        dist_mat = np.zeros((N, M))\n",
    "        for i in range(N):\n",
    "            for j in range(M):\n",
    "                dist_mat[i, j] = abs(x[i] - y[j])\n",
    "        \n",
    "        path, cost_mat = self.dp(dist_mat)\n",
    "        \n",
    "        return \"{:.4f}\".format(cost_mat[N - 1, M - 1]/(N + M))\n"
   ]
  }
 ],
 "metadata": {
  "kernelspec": {
   "display_name": "Python 3 (ipykernel)",
   "language": "python",
   "name": "python3"
  },
  "language_info": {
   "codemirror_mode": {
    "name": "ipython",
    "version": 3
   },
   "file_extension": ".py",
   "mimetype": "text/x-python",
   "name": "python",
   "nbconvert_exporter": "python",
   "pygments_lexer": "ipython3",
   "version": "3.9.18"
  }
 },
 "nbformat": 4,
 "nbformat_minor": 5
}
