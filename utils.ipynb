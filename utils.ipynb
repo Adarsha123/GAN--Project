{
 "cells": [
  {
   "cell_type": "code",
   "execution_count": 6,
   "id": "23bce526-b29a-458c-a217-ee08a9672b8a",
   "metadata": {},
   "outputs": [],
   "source": [
    "import os\n",
    "import numpy as np\n",
    "import torch\n",
    "from torch.utils import data\n",
    "from ipynb.fs.full.data_preprocess import serialized_test_folder, serialized_train_folder, serialized_val_folder\n"
   ]
  },
  {
   "cell_type": "code",
   "execution_count": 9,
   "id": "89ee7b19-84de-4808-a3f2-46be69149095",
   "metadata": {},
   "outputs": [],
   "source": [
    "class SignalDataset(data.Dataset):\n",
    "    \"\"\"\n",
    "    Audio sample reader.\n",
    "    \"\"\"\n",
    "\n",
    "    def __init__(self, data_type):\n",
    "\n",
    "        if data_type == 'train':\n",
    "            data_path = serialized_train_folder\n",
    "        elif data_type == 'val':\n",
    "            data_path = serialized_val_folder\n",
    "        else:\n",
    "            data_path = serialized_test_folder\n",
    "        if not os.path.exists(data_path):\n",
    "            raise FileNotFoundError('The {} data folder does not exist!'.format(data_type))\n",
    "\n",
    "        self.data_type = data_type\n",
    "        self.file_names = [os.path.join(data_path, filename) for filename in os.listdir(data_path)]\n",
    "\n",
    "    def reference_batch(self, batch_size):\n",
    "        \"\"\"\n",
    "        Randomly selects a reference batch from dataset.\n",
    "        Reference batch is used for calculating statistics for virtual batch normalization operation.\n",
    "\n",
    "        Args:\n",
    "            batch_size(int): batch size\n",
    "\n",
    "        Returns:\n",
    "            ref_batch: reference batch\n",
    "        \"\"\"\n",
    "        ref_file_names = np.random.choice(self.file_names, batch_size)\n",
    "        ref_batch = np.stack([np.load(f) for f in ref_file_names])\n",
    "        ref_batch = np.squeeze(ref_batch, axis=-1)\n",
    "        # ref_batch = emphasis(ref_batch, emph_coeff=0.95)\n",
    "        return torch.from_numpy(ref_batch).type(torch.FloatTensor)\n",
    "\n",
    "    def __getitem__(self, idx):\n",
    "        pair = np.load(self.file_names[idx])\n",
    "        noisy = pair[1].reshape(1,-1)\n",
    "        acc = pair[2].reshape(1,-1)\n",
    "        # if self.data_type == 'train':\n",
    "        clean = pair[0].reshape(1,-1)\n",
    "        return torch.from_numpy(pair).type(torch.FloatTensor), torch.from_numpy(clean).type(\n",
    "            torch.FloatTensor), torch.from_numpy(noisy).type(torch.FloatTensor), torch.from_numpy(acc).type(torch.FloatTensor)\n",
    "    # else:\n",
    "        #     return os.path.basename(self.file_names[idx]), torch.from_numpy(noisy).type(torch.FloatTensor), torch.from_numpy(acc).type(torch.FloatTensor)\n",
    "\n",
    "    def __len__(self):\n",
    "        return len(self.file_names)\n"
   ]
  },
  {
   "cell_type": "code",
   "execution_count": null,
   "id": "65ce5093-39c9-4c3d-948c-da5ec3d79227",
   "metadata": {},
   "outputs": [],
   "source": []
  }
 ],
 "metadata": {
  "kernelspec": {
   "display_name": "Python 3 (ipykernel)",
   "language": "python",
   "name": "python3"
  },
  "language_info": {
   "codemirror_mode": {
    "name": "ipython",
    "version": 3
   },
   "file_extension": ".py",
   "mimetype": "text/x-python",
   "name": "python",
   "nbconvert_exporter": "python",
   "pygments_lexer": "ipython3",
   "version": "3.9.18"
  }
 },
 "nbformat": 4,
 "nbformat_minor": 5
}
